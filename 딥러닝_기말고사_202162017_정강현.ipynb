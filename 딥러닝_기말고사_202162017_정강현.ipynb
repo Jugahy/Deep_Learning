{
 "cells": [
  {
   "cell_type": "markdown",
   "id": "addff057",
   "metadata": {},
   "source": [
    "## 딥러닝 기말고사\n",
    "\n",
    "* 시험시간: 09:00~10:20분까지<br><br>\n",
    "* 파일이름 작성방법: 딥러닝_기말고사_학번_성명.ipynb<br>\n",
    "\\- 주의사항: jupyternotebook file을 실행해본 후 upload하세요\n",
    "* 답안지 제출 \n",
    "   www.webhard.co.kr<br>\n",
    "   ID: lindsey<br>\n",
    "   PW: start<br>\n",
    "   답안제출 Folder: 올리기전용/딥러닝(학부2학년)/딥러닝_기말고사답안제출_폴더\"에 답안제출<br><br>\n",
    "* 빈칸에 프로그램을 작성한 후 실행결과를 제출\n",
    "* 시험 시간 이후에 upload된 file은 인정하지 않습니다"
   ]
  },
  {
   "cell_type": "code",
   "execution_count": 2,
   "id": "26847d12",
   "metadata": {},
   "outputs": [
    {
     "name": "stderr",
     "output_type": "stream",
     "text": [
      "2022-11-07 00:25:58.908639: I tensorflow/core/platform/cpu_feature_guard.cc:151] This TensorFlow binary is optimized with oneAPI Deep Neural Network Library (oneDNN) to use the following CPU instructions in performance-critical operations:  AVX2 AVX512F FMA\n",
      "To enable them in other operations, rebuild TensorFlow with the appropriate compiler flags.\n",
      "2022-11-07 00:25:59.822177: I tensorflow/core/common_runtime/gpu/gpu_device.cc:1525] Created device /job:localhost/replica:0/task:0/device:GPU:0 with 4053 MB memory:  -> device: 0, name: NVIDIA A100 80GB PCIe, pci bus id: 0000:b3:00.0, compute capability: 8.0\n"
     ]
    }
   ],
   "source": [
    "import tensorflow.compat.v1 as tf1\n",
    "# import tensorflow as tf2\n",
    "import os\n",
    "\n",
    "os.environ[\"CUDA_VISIBLE_DEVICES\"] = \"1\"\n",
    "config = tf1.ConfigProto()\n",
    "config.gpu_options.per_process_gpu_memory_fraction = 0.05\n",
    "session = tf1.Session(config=config)"
   ]
  },
  {
   "cell_type": "markdown",
   "id": "ad7aa99c",
   "metadata": {},
   "source": [
    "### Dataset 설명\n",
    "1. $28 \\times 28$ MNIST 손글씨 image 7만장을 다음과 같이 loading하였다\n",
    "1. 7만장중 6만장은 학습에 사용하고 1만장은 test에 사용함"
   ]
  },
  {
   "cell_type": "code",
   "execution_count": 46,
   "id": "91b0e98a",
   "metadata": {},
   "outputs": [],
   "source": [
    "import tensorflow as tf\n",
    "import keras\n",
    "from tensorflow.keras import datasets, layers, models\n",
    "\n",
    "(train_images, train_labels), (test_images, test_labels) = datasets.mnist.load_data()\n",
    "train_images = train_images.reshape((60000, 28, 28, 1))\n",
    "test_images = test_images.reshape((10000, 28, 28, 1))\n",
    "train_images, test_images = train_images / 255.0, test_images / 255.0"
   ]
  },
  {
   "cell_type": "markdown",
   "id": "1bb88b5d",
   "metadata": {},
   "source": [
    "#### [문제 1] 위의 MNIST dataset을 이용하여 다음 Network Architecture를 가지는 epoch = 3으로 Autoencoder를 학습하고 Testdataset의 처음 5개 data에 대해 Original data와 Autoencoder로 생성한 5개 data의 image를 출력하시오\n",
    "\n",
    "Neural Network | Layer | 설명\n",
    ":----|:----|:----\n",
    "Encoder | Convolution layer 1 | $3 \\times3$ filter 16장, activation: ReLU, $2 \\times 2$ Maxpooling\n",
    "Encoder | Convolution layer 2 | $3 \\times3$ filter  8장, activation: ReLU, $2 \\times 2$ Maxpooling\n",
    "Encoder | Convolution layer 3 | $3 \\times3$ filter  2장, activation: ReLU, $2 \\times 2$ Maxpooling\n",
    "Decoder | Convolution layer 1 | $3 \\times3$ filter  2장, activation: ReLU, $2 \\times 2$ Maxpooling\n",
    "Decoder | Convolution layer 2 | $3 \\times3$ filter  8장, activation: ReLU, $2 \\times 2$ Maxpooling\n",
    "Decoder | Convolution layer 3 | $3 \\times3$ filter 16장, activation: ReLU, $2 \\times 2$ Maxpooling"
   ]
  },
  {
   "cell_type": "code",
   "execution_count": 48,
   "id": "2c87b153",
   "metadata": {},
   "outputs": [],
   "source": [
    "def rounded_accuracy(y_true, y_pred):\n",
    "    return keras.metrics.binary_accuracy(tf.round(y_true), tf.round(y_pred))"
   ]
  },
  {
   "cell_type": "code",
   "execution_count": 49,
   "id": "7e087c63",
   "metadata": {},
   "outputs": [],
   "source": [
    "def show_reconstructions(model, images=test_images, n_images=5):\n",
    "    reconstructions = model.predict(images[:n_images])\n",
    "    fig = plt.figure(figsize=(n_images * 1.5, 3))\n",
    "    for image_index in range(n_images):\n",
    "        plt.subplot(2, n_images, 1 + image_index)\n",
    "        plot_image(images[image_index])\n",
    "        plt.subplot(2, n_images, 1 + n_images + image_index)\n",
    "        plot_image(reconstructions[image_index])\n",
    "def plot_image(image):\n",
    "    plt.imshow(image, cmap=\"binary\")\n",
    "    plt.axis(\"off\")"
   ]
  },
  {
   "cell_type": "code",
   "execution_count": 10,
   "id": "5bd0bafd",
   "metadata": {},
   "outputs": [],
   "source": [
    "import numpy as np\n",
    "\n",
    "tf.random.set_seed(42)\n",
    "np.random.seed(42)\n",
    "\n",
    "stacked_encoder = keras.models.Sequential([\n",
    "    keras.layers.Flatten(input_shape=[28, 28]),\n",
    "    keras.layers.Dense(16, activation=\"relu\"),\n",
    "    keras.layers.Dense(8, activation=\"relu\"),\n",
    "    keras.layers.Dense(2, activation=\"relu\"),\n",
    "])\n",
    "stacked_decoder = keras.models.Sequential([\n",
    "    keras.layers.Dense(2, activation=\"relu\", input_shape=[2]),\n",
    "    keras.layers.Dense(8, activation=\"relu\", input_shape=[8]),\n",
    "    keras.layers.Dense(16, activation=\"relu\", input_shape=[16]),\n",
    "    keras.layers.Dense(28 * 28, activation=\"sigmoid\"),\n",
    "    keras.layers.Reshape([28, 28])\n",
    "])\n",
    "stacked_ae = keras.models.Sequential([stacked_encoder, stacked_decoder])\n",
    "stacked_ae.compile(loss=\"binary_crossentropy\",\n",
    "                   optimizer=tf.keras.optimizers.SGD(learning_rate=1.5), metrics=[rounded_accuracy])"
   ]
  },
  {
   "cell_type": "code",
   "execution_count": 50,
   "id": "aa682514",
   "metadata": {},
   "outputs": [],
   "source": [
    "# input_img = keras.Input(shape=(28, 28, 1))\n",
    "\n",
    "# x = layers.Conv2D(16, (3, 3), activation='relu', padding='same')(input_img)\n",
    "# x = layers.MaxPooling2D((2, 2), padding='same')(x)\n",
    "# x = layers.Conv2D(8, (3, 3), activation='relu', padding='same')(x)\n",
    "# x = layers.MaxPooling2D((2, 2), padding='same')(x)\n",
    "# x = layers.Conv2D(2, (3, 3), activation='relu', padding='same')(x)\n",
    "# encoded = layers.MaxPooling2D((2, 2), padding='same')(x)\n",
    "\n",
    "# # at this point the representation is (4, 4, 8) i.e. 128-dimensional\n",
    "\n",
    "# x = layers.Conv2D(2, (3, 3), activation='relu', padding='same')(encoded)\n",
    "# x = layers.UpSampling2D((2, 2))(x)\n",
    "# x = layers.Conv2D(8, (3, 3), activation='relu', padding='same')(x)\n",
    "# x = layers.UpSampling2D((2, 2))(x)\n",
    "# x = layers.Conv2D(16, (3, 3), activation='relu')(x)\n",
    "# x = layers.UpSampling2D((2, 2))(x)\n",
    "# decoded = layers.Conv2D(1, (3, 3), activation='sigmoid', padding='same')(x)\n",
    "\n",
    "# autoencoder = keras.Model(input_img, decoded)\n",
    "# autoencoder.compile(optimizer='adam', loss='binary_crossentropy')"
   ]
  },
  {
   "cell_type": "code",
   "execution_count": 51,
   "id": "d55ee34f",
   "metadata": {},
   "outputs": [
    {
     "name": "stdout",
     "output_type": "stream",
     "text": [
      "Epoch 1/3\n",
      "1875/1875 [==============================] - 22s 12ms/step - loss: 0.1998 - val_loss: 0.1658\n",
      "Epoch 2/3\n",
      "1875/1875 [==============================] - 22s 12ms/step - loss: 0.1587 - val_loss: 0.1520\n",
      "Epoch 3/3\n",
      "1875/1875 [==============================] - 22s 12ms/step - loss: 0.1494 - val_loss: 0.1476\n"
     ]
    }
   ],
   "source": [
    "history = autoencoder.fit(train_images, train_images, epochs=3,\n",
    "                        validation_data=(test_images, test_images))"
   ]
  },
  {
   "cell_type": "code",
   "execution_count": 37,
   "id": "ce9af899",
   "metadata": {},
   "outputs": [
    {
     "data": {
      "image/png": "[encoded data removed]",
      "text/plain": [
       "<Figure size 750x300 with 10 Axes>"
      ]
     },
     "metadata": {},
     "output_type": "display_data"
    }
   ],
   "source": [
    "import matplotlib.pyplot as plt\n",
    "\n",
    "show_reconstructions(stacked_ae)\n",
    "plt.show()"
   ]
  },
  {
   "cell_type": "markdown",
   "id": "96d7f9b9",
   "metadata": {},
   "source": [
    "#### [문제 2] MNIST dataset에서 다음과 같은 각 image에 noise를 추가하였다. Noise를 제거하기 위한 Autoencoder를 실행시키고 Testdataset의 처음 5개 data에 대해 Original data와 Auto Encoder로 생성한 5개 data의 image를 출력하시오. 단, Autoencoder의 Architecture는 문제 1과 같다."
   ]
  },
  {
   "cell_type": "code",
   "execution_count": 39,
   "id": "984babc7",
   "metadata": {},
   "outputs": [],
   "source": [
    "from keras.datasets import mnist\n",
    "\n",
    "(x_train, _), (x_test, _) = mnist.load_data()\n",
    "\n",
    "x_train = x_train.astype('float32') / 255.\n",
    "x_test = x_test.astype('float32') / 255.\n",
    "x_train = np.reshape(x_train, (len(x_train), 28, 28, 1))\n",
    "x_test = np.reshape(x_test, (len(x_test), 28, 28, 1))\n",
    "\n",
    "noise_factor = 0.5\n",
    "x_train_noisy = x_train + noise_factor * np.random.normal(loc=0.0, scale=1.0, size=x_train.shape) \n",
    "x_test_noisy = x_test + noise_factor * np.random.normal(loc=0.0, scale=1.0, size=x_test.shape) \n",
    "\n",
    "x_train_noisy = np.clip(x_train_noisy, 0., 1.)\n",
    "x_test_noisy = np.clip(x_test_noisy, 0., 1.)"
   ]
  },
  {
   "cell_type": "code",
   "execution_count": 40,
   "id": "ffb3b783",
   "metadata": {},
   "outputs": [
    {
     "data": {
      "image/png": "[encoded data removed]",
      "text/plain": [
       "<Figure size 2000x200 with 10 Axes>"
      ]
     },
     "metadata": {},
     "output_type": "display_data"
    }
   ],
   "source": [
    "n = 10\n",
    "plt.figure(figsize=(20, 2))\n",
    "for i in range(1, n + 1):\n",
    "    ax = plt.subplot(1, n, i)\n",
    "    plt.imshow(x_test_noisy[i].reshape(28, 28))\n",
    "    plt.gray()\n",
    "    ax.get_xaxis().set_visible(False)\n",
    "    ax.get_yaxis().set_visible(False)\n",
    "plt.show()"
   ]
  },
  {
   "cell_type": "code",
   "execution_count": 41,
   "id": "02ee4c37",
   "metadata": {},
   "outputs": [],
   "source": [
    "input_img = keras.Input(shape=(28, 28, 1))\n",
    "\n",
    "x = layers.Conv2D(16, (3, 3), activation='relu', padding='same')(input_img)\n",
    "x = layers.MaxPooling2D((2, 2), padding='same')(x)\n",
    "x = layers.Conv2D(8, (3, 3), activation='relu', padding='same')(x)\n",
    "x = layers.MaxPooling2D((2, 2), padding='same')(x)\n",
    "x = layers.Conv2D(2, (3, 3), activation='relu', padding='same')(x)\n",
    "encoded = layers.MaxPooling2D((2, 2), padding='same')(x)\n",
    "\n",
    "# at this point the representation is (4, 4, 8) i.e. 128-dimensional\n",
    "\n",
    "x = layers.Conv2D(2, (3, 3), activation='relu', padding='same')(encoded)\n",
    "x = layers.UpSampling2D((2, 2))(x)\n",
    "x = layers.Conv2D(8, (3, 3), activation='relu', padding='same')(x)\n",
    "x = layers.UpSampling2D((2, 2))(x)\n",
    "x = layers.Conv2D(16, (3, 3), activation='relu')(x)\n",
    "x = layers.UpSampling2D((2, 2))(x)\n",
    "decoded = layers.Conv2D(1, (3, 3), activation='sigmoid', padding='same')(x)\n",
    "\n",
    "autoencoder = keras.Model(input_img, decoded)\n",
    "autoencoder.compile(optimizer='adam', loss='binary_crossentropy')"
   ]
  },
  {
   "cell_type": "code",
   "execution_count": 43,
   "id": "18ee9c1e",
   "metadata": {},
   "outputs": [
    {
     "name": "stdout",
     "output_type": "stream",
     "text": [
      "Epoch 1/3\n",
      "469/469 [==============================] - 6s 13ms/step - loss: 0.1316 - val_loss: 0.1306\n",
      "Epoch 2/3\n",
      "469/469 [==============================] - 6s 13ms/step - loss: 0.1308 - val_loss: 0.1297\n",
      "Epoch 3/3\n",
      "469/469 [==============================] - 6s 13ms/step - loss: 0.1302 - val_loss: 0.1294\n"
     ]
    },
    {
     "data": {
      "text/plain": [
       "<keras.callbacks.History at 0x7f940062c670>"
      ]
     },
     "execution_count": 43,
     "metadata": {},
     "output_type": "execute_result"
    }
   ],
   "source": [
    "from keras.callbacks import TensorBoard\n",
    "\n",
    "autoencoder.fit(x_train, x_train,\n",
    "                epochs=3,\n",
    "                batch_size=128,\n",
    "                shuffle=True,\n",
    "                validation_data=(x_test, x_test),\n",
    "                callbacks=[TensorBoard(log_dir='/tmp/autoencoder')])"
   ]
  },
  {
   "cell_type": "code",
   "execution_count": 44,
   "id": "7930a117",
   "metadata": {},
   "outputs": [
    {
     "data": {
      "image/png": "[encoded data removed]",
      "text/plain": [
       "<Figure size 2000x400 with 20 Axes>"
      ]
     },
     "metadata": {},
     "output_type": "display_data"
    }
   ],
   "source": [
    "decoded_imgs = autoencoder.predict(x_test)\n",
    "\n",
    "n = 10\n",
    "plt.figure(figsize=(20, 4))\n",
    "for i in range(1, n + 1):\n",
    "    # Display original\n",
    "    ax = plt.subplot(2, n, i)\n",
    "    plt.imshow(x_test_noisy[i].reshape(28, 28))\n",
    "    plt.gray()\n",
    "    ax.get_xaxis().set_visible(False)\n",
    "    ax.get_yaxis().set_visible(False)\n",
    "\n",
    "    # Display reconstruction\n",
    "    ax = plt.subplot(2, n, i + n)\n",
    "    plt.imshow(decoded_imgs[i].reshape(28, 28))\n",
    "    plt.gray()\n",
    "    ax.get_xaxis().set_visible(False)\n",
    "    ax.get_yaxis().set_visible(False)\n",
    "plt.show()"
   ]
  },
  {
   "cell_type": "markdown",
   "id": "9d5b9eb8",
   "metadata": {},
   "source": [
    "#### [문제 3] 다음과 같은 data sequence $x$가 있을 때 주어진 data sequence의 label data $y$는 다음과 같다<br>\n",
    "\n",
    "x = array([[1,2,3], [2,3,4], [3,4,5],  [4,5,6],   [5,6,7],\n",
    "           [6,7,8], [7,8,9], [8,9,10], [9,10,11], [10,11,12],\n",
    "           [20,30,40], [30,40,50], [40,50,60]])<br>\n",
    "           \n",
    "y =  array([5,6,7,8,9,10,11,12,13,14,60,70,80])\n",
    "\n",
    "다음과 같은 조건에서 Simple RNN을 사용하여 $x_{new}=[25,35,45]$에 대한 다음 숫자를 예측하시오\n",
    "\n",
    "- simple RNN layer: 5개\n",
    "- 1개 Dense layer의 node 수: 10\n",
    "- output node 수: 1개\n",
    "- epoch=100<br>\n",
    "- Activation function: ReLU\n",
    "- Optimizer: Adam\n"
   ]
  },
  {
   "cell_type": "code",
   "execution_count": 76,
   "id": "ae0b5a6a",
   "metadata": {},
   "outputs": [],
   "source": [
    "x = np.array([[1,2,3], [2,3,4], [3,4,5],  [4,5,6],   [5,6,7],\n",
    "           [6,7,8], [7,8,9], [8,9,10], [9,10,11], [10,11,12],\n",
    "           [20,30,40], [30,40,50], [40,50,60]])\n",
    "\n",
    "y =  np.array([5,6,7,8,9,10,11,12,13,14,60,70,80])\n",
    "x = x[np.newaxis, :, :]\n",
    "x = np.array(x, dtype=np.float32)"
   ]
  },
  {
   "cell_type": "code",
   "execution_count": 77,
   "id": "ba5a484f",
   "metadata": {},
   "outputs": [
    {
     "data": {
      "text/plain": [
       "(1, 13, 3)"
      ]
     },
     "execution_count": 77,
     "metadata": {},
     "output_type": "execute_result"
    }
   ],
   "source": [
    "x.shape"
   ]
  },
  {
   "cell_type": "code",
   "execution_count": 80,
   "id": "901df540",
   "metadata": {},
   "outputs": [
    {
     "name": "stdout",
     "output_type": "stream",
     "text": [
      "hidden state : [[-1.  1.  1.]], shape: (1, 3)\n"
     ]
    }
   ],
   "source": [
    "rnn = SimpleRNN(3)\n",
    "hidden_state = rnn(x)\n",
    "print('hidden state : {}, shape: {}'.format(hidden_state, hidden_state.shape))"
   ]
  },
  {
   "cell_type": "code",
   "execution_count": 81,
   "id": "8ae966c6",
   "metadata": {},
   "outputs": [
    {
     "name": "stdout",
     "output_type": "stream",
     "text": [
      "hidden states : [[[-0.14974435  0.91531116  0.9927777 ]\n",
      "  [-0.92006624  0.9678388   0.9993625 ]\n",
      "  [-0.92749935  0.9947613   0.9999474 ]\n",
      "  [-0.94960916  0.996956    0.99999803]\n",
      "  [-0.9640162   0.99830145  1.        ]\n",
      "  [-0.97441393  0.9990404   1.        ]\n",
      "  [-0.9818424   0.9994551   1.        ]\n",
      "  [-0.9871459   0.99968886  1.        ]\n",
      "  [-0.99091023  0.9998219   1.        ]\n",
      "  [-0.9935839   0.9998976   1.        ]\n",
      "  [-0.99969983  1.          1.        ]\n",
      "  [-0.9999909   1.          1.        ]\n",
      "  [-1.          1.          1.        ]]], shape: (1, 13, 3)\n"
     ]
    }
   ],
   "source": [
    "rnn = SimpleRNN(3, return_sequences=True)\n",
    "hidden_states = rnn(x)\n",
    "\n",
    "print('hidden states : {}, shape: {}'.format(hidden_states, hidden_states.shape))"
   ]
  },
  {
   "cell_type": "code",
   "execution_count": null,
   "id": "7f189990",
   "metadata": {},
   "outputs": [],
   "source": []
  },
  {
   "cell_type": "markdown",
   "id": "e9ad22d4",
   "metadata": {},
   "source": [
    "#### [문제 4] $28 \\times 28$ MNIST dataset에 대해 Variational Autoencoder를 실행하여 2차원 latent  manifold(숫자 image 공간)를 출력하시오\n",
    "\n",
    "- input: $28 \\times 28$ image\n",
    "- 1개의 layer로 구성된 encoder: 32차원\n",
    "- Latent layer: 2차원\n",
    "- 1개의 layer로 구성된 decoder: 32차원\n",
    "- 모든 layer의 activation function: ReLU\n",
    "- epoch수; 50\n",
    "- batch size: 128"
   ]
  },
  {
   "cell_type": "code",
   "execution_count": 82,
   "id": "1fa814b7",
   "metadata": {},
   "outputs": [],
   "source": [
    "import numpy as np\n",
    "import tensorflow as tf\n",
    "from tensorflow import keras\n",
    "from tensorflow.keras import layers"
   ]
  },
  {
   "cell_type": "code",
   "execution_count": 83,
   "id": "545a46f0",
   "metadata": {},
   "outputs": [],
   "source": [
    "class Sampling(layers.Layer):\n",
    "    \"\"\"Uses (z_mean, z_log_var) to sample z, the vector encoding a digit.\"\"\"\n",
    "\n",
    "    def call(self, inputs):\n",
    "        z_mean, z_log_var = inputs\n",
    "        batch = tf.shape(z_mean)[0]\n",
    "        dim = tf.shape(z_mean)[1]\n",
    "        epsilon = tf.keras.backend.random_normal(shape=(batch, dim))\n",
    "        return z_mean + tf.exp(0.5 * z_log_var) * epsilon"
   ]
  },
  {
   "cell_type": "code",
   "execution_count": 90,
   "id": "2137b4a0",
   "metadata": {},
   "outputs": [
    {
     "name": "stdout",
     "output_type": "stream",
     "text": [
      "Model: \"encoder\"\n",
      "__________________________________________________________________________________________________\n",
      " Layer (type)                   Output Shape         Param #     Connected to                     \n",
      "==================================================================================================\n",
      " input_7 (InputLayer)           [(None, 28, 28, 1)]  0           []                               \n",
      "                                                                                                  \n",
      " conv2d_23 (Conv2D)             (None, 14, 14, 32)   320         ['input_7[0][0]']                \n",
      "                                                                                                  \n",
      " conv2d_24 (Conv2D)             (None, 7, 7, 64)     18496       ['conv2d_23[0][0]']              \n",
      "                                                                                                  \n",
      " flatten_10 (Flatten)           (None, 3136)         0           ['conv2d_24[0][0]']              \n",
      "                                                                                                  \n",
      " dense_51 (Dense)               (None, 16)           50192       ['flatten_10[0][0]']             \n",
      "                                                                                                  \n",
      " z_mean (Dense)                 (None, 2)            34          ['dense_51[0][0]']               \n",
      "                                                                                                  \n",
      " z_log_var (Dense)              (None, 2)            34          ['dense_51[0][0]']               \n",
      "                                                                                                  \n",
      " sampling_2 (Sampling)          (None, 2)            0           ['z_mean[0][0]',                 \n",
      "                                                                  'z_log_var[0][0]']              \n",
      "                                                                                                  \n",
      "==================================================================================================\n",
      "Total params: 69,076\n",
      "Trainable params: 69,076\n",
      "Non-trainable params: 0\n",
      "__________________________________________________________________________________________________\n"
     ]
    }
   ],
   "source": [
    "latent_dim = 2\n",
    "\n",
    "encoder_inputs = keras.Input(shape=(28, 28, 1))\n",
    "x = layers.Conv2D(32, 3, activation=\"relu\", strides=2, padding=\"same\")(encoder_inputs)\n",
    "x = layers.Conv2D(64, 3, activation=\"relu\", strides=2, padding=\"same\")(x)\n",
    "x = layers.Flatten()(x)\n",
    "x = layers.Dense(16, activation=\"relu\")(x)\n",
    "z_mean = layers.Dense(latent_dim, name=\"z_mean\")(x)\n",
    "z_log_var = layers.Dense(latent_dim, name=\"z_log_var\")(x)\n",
    "z = Sampling()([z_mean, z_log_var])\n",
    "encoder = keras.Model(encoder_inputs, [z_mean, z_log_var, z], name=\"encoder\")\n",
    "encoder.summary()"
   ]
  },
  {
   "cell_type": "code",
   "execution_count": 85,
   "id": "472df018",
   "metadata": {},
   "outputs": [
    {
     "name": "stdout",
     "output_type": "stream",
     "text": [
      "Model: \"decoder\"\n",
      "_________________________________________________________________\n",
      " Layer (type)                Output Shape              Param #   \n",
      "=================================================================\n",
      " input_5 (InputLayer)        [(None, 2)]               0         \n",
      "                                                                 \n",
      " dense_50 (Dense)            (None, 3136)              9408      \n",
      "                                                                 \n",
      " reshape_6 (Reshape)         (None, 7, 7, 64)          0         \n",
      "                                                                 \n",
      " conv2d_transpose (Conv2DTra  (None, 14, 14, 64)       36928     \n",
      " nspose)                                                         \n",
      "                                                                 \n",
      " conv2d_transpose_1 (Conv2DT  (None, 28, 28, 32)       18464     \n",
      " ranspose)                                                       \n",
      "                                                                 \n",
      " conv2d_transpose_2 (Conv2DT  (None, 28, 28, 1)        289       \n",
      " ranspose)                                                       \n",
      "                                                                 \n",
      "=================================================================\n",
      "Total params: 65,089\n",
      "Trainable params: 65,089\n",
      "Non-trainable params: 0\n",
      "_________________________________________________________________\n"
     ]
    }
   ],
   "source": [
    "latent_inputs = keras.Input(shape=(latent_dim,))\n",
    "x = layers.Dense(7 * 7 * 64, activation=\"relu\")(latent_inputs)\n",
    "x = layers.Reshape((7, 7, 64))(x)\n",
    "x = layers.Conv2DTranspose(64, 3, activation=\"relu\", strides=2, padding=\"same\")(x)\n",
    "x = layers.Conv2DTranspose(32, 3, activation=\"relu\", strides=2, padding=\"same\")(x)\n",
    "decoder_outputs = layers.Conv2DTranspose(1, 3, activation=\"sigmoid\", padding=\"same\")(x)\n",
    "decoder = keras.Model(latent_inputs, decoder_outputs, name=\"decoder\")\n",
    "decoder.summary()"
   ]
  },
  {
   "cell_type": "code",
   "execution_count": 86,
   "id": "713fe776",
   "metadata": {},
   "outputs": [],
   "source": [
    "class VAE(keras.Model):\n",
    "    def __init__(self, encoder, decoder, **kwargs):\n",
    "        super(VAE, self).__init__(**kwargs)\n",
    "        self.encoder = encoder\n",
    "        self.decoder = decoder\n",
    "        self.total_loss_tracker = keras.metrics.Mean(name=\"total_loss\")\n",
    "        self.reconstruction_loss_tracker = keras.metrics.Mean(\n",
    "            name=\"reconstruction_loss\"\n",
    "        )\n",
    "        self.kl_loss_tracker = keras.metrics.Mean(name=\"kl_loss\")\n",
    "\n",
    "    @property\n",
    "    def metrics(self):\n",
    "        return [\n",
    "            self.total_loss_tracker,\n",
    "            self.reconstruction_loss_tracker,\n",
    "            self.kl_loss_tracker,\n",
    "        ]\n",
    "\n",
    "    def train_step(self, data):\n",
    "        with tf.GradientTape() as tape:\n",
    "            z_mean, z_log_var, z = self.encoder(data)\n",
    "            reconstruction = self.decoder(z)\n",
    "            reconstruction_loss = tf.reduce_mean(\n",
    "                tf.reduce_sum(\n",
    "                    keras.losses.binary_crossentropy(data, reconstruction), axis=(1, 2)\n",
    "                )\n",
    "            )\n",
    "            kl_loss = -0.5 * (1 + z_log_var - tf.square(z_mean) - tf.exp(z_log_var))\n",
    "            kl_loss = tf.reduce_mean(tf.reduce_sum(kl_loss, axis=1))\n",
    "            total_loss = reconstruction_loss + kl_loss\n",
    "        grads = tape.gradient(total_loss, self.trainable_weights)\n",
    "        self.optimizer.apply_gradients(zip(grads, self.trainable_weights))\n",
    "        self.total_loss_tracker.update_state(total_loss)\n",
    "        self.reconstruction_loss_tracker.update_state(reconstruction_loss)\n",
    "        self.kl_loss_tracker.update_state(kl_loss)\n",
    "        return {\n",
    "            \"loss\": self.total_loss_tracker.result(),\n",
    "            \"reconstruction_loss\": self.reconstruction_loss_tracker.result(),\n",
    "            \"kl_loss\": self.kl_loss_tracker.result(),\n",
    "        }\n"
   ]
  },
  {
   "cell_type": "code",
   "execution_count": 91,
   "id": "ae1c2271",
   "metadata": {
    "scrolled": false
   },
   "outputs": [],
   "source": [
    "(x_train, _), (x_test, _) = keras.datasets.mnist.load_data()\n",
    "mnist_digits = np.concatenate([x_train, x_test], axis=0)\n",
    "mnist_digits = np.expand_dims(mnist_digits, -1).astype(\"float32\") / 255\n",
    "\n",
    "vae = VAE(encoder, decoder)\n",
    "vae.compile(optimizer=keras.optimizers.Adam())\n",
    "vae.fit(mnist_digits, epochs=50, batch_size=128)"
   ]
  },
  {
   "cell_type": "code",
   "execution_count": null,
   "id": "3b52c90a",
   "metadata": {},
   "outputs": [],
   "source": [
    "import matplotlib.pyplot as plt\n",
    "\n",
    "\n",
    "def plot_latent_space(vae, n=30, figsize=15):\n",
    "    # display a n*n 2D manifold of digits\n",
    "    digit_size = 28\n",
    "    scale = 1.0\n",
    "    figure = np.zeros((digit_size * n, digit_size * n))\n",
    "    # linearly spaced coordinates corresponding to the 2D plot\n",
    "    # of digit classes in the latent space\n",
    "    grid_x = np.linspace(-scale, scale, n)\n",
    "    grid_y = np.linspace(-scale, scale, n)[::-1]\n",
    "\n",
    "    for i, yi in enumerate(grid_y):\n",
    "        for j, xi in enumerate(grid_x):\n",
    "            z_sample = np.array([[xi, yi]])\n",
    "            x_decoded = vae.decoder.predict(z_sample)\n",
    "            digit = x_decoded[0].reshape(digit_size, digit_size)\n",
    "            figure[\n",
    "                i * digit_size : (i + 1) * digit_size,\n",
    "                j * digit_size : (j + 1) * digit_size,\n",
    "            ] = digit\n",
    "\n",
    "    plt.figure(figsize=(figsize, figsize))\n",
    "    start_range = digit_size // 2\n",
    "    end_range = n * digit_size + start_range\n",
    "    pixel_range = np.arange(start_range, end_range, digit_size)\n",
    "    sample_range_x = np.round(grid_x, 1)\n",
    "    sample_range_y = np.round(grid_y, 1)\n",
    "    plt.xticks(pixel_range, sample_range_x)\n",
    "    plt.yticks(pixel_range, sample_range_y)\n",
    "    plt.xlabel(\"z[0]\")\n",
    "    plt.ylabel(\"z[1]\")\n",
    "    plt.imshow(figure, cmap=\"Greys_r\")\n",
    "    plt.show()\n",
    "\n",
    "\n",
    "plot_latent_space(vae)"
   ]
  },
  {
   "cell_type": "code",
   "execution_count": null,
   "id": "9d4bfc13",
   "metadata": {},
   "outputs": [],
   "source": [
    "def plot_label_clusters(vae, data, labels):\n",
    "    # display a 2D plot of the digit classes in the latent space\n",
    "    z_mean, _, _ = vae.encoder.predict(data)\n",
    "    plt.figure(figsize=(12, 10))\n",
    "    plt.scatter(z_mean[:, 0], z_mean[:, 1], c=labels)\n",
    "    plt.colorbar()\n",
    "    plt.xlabel(\"z[0]\")\n",
    "    plt.ylabel(\"z[1]\")\n",
    "    plt.show()\n",
    "\n",
    "\n",
    "(x_train, y_train), _ = keras.datasets.mnist.load_data()\n",
    "x_train = np.expand_dims(x_train, -1).astype(\"float32\") / 255\n",
    "\n",
    "plot_label_clusters(vae, x_train, y_train)"
   ]
  },
  {
   "cell_type": "code",
   "execution_count": null,
   "id": "42d8b6ca",
   "metadata": {},
   "outputs": [],
   "source": []
  },
  {
   "cell_type": "markdown",
   "id": "6b2ce81b",
   "metadata": {},
   "source": [
    "#### [문제 5] 문제 4에서 출력 결과에는 0~9까지의 모든 숫자가 나타나지 않는 이유는 무엇인가 간단히 서술하시오"
   ]
  },
  {
   "cell_type": "markdown",
   "id": "8f41723e",
   "metadata": {},
   "source": []
  },
  {
   "cell_type": "markdown",
   "id": "611b9eb7",
   "metadata": {},
   "source": [
    "인코터의 그레이디언트를 역전파하면서 무질서해져서"
   ]
  }
 ],
 "metadata": {
  "kernelspec": {
   "display_name": "Python 3 (ipykernel)",
   "language": "python",
   "name": "python3"
  },
  "language_info": {
   "codemirror_mode": {
    "name": "ipython",
    "version": 3
   },
   "file_extension": ".py",
   "mimetype": "text/x-python",
   "name": "python",
   "nbconvert_exporter": "python",
   "pygments_lexer": "ipython3",
   "version": "3.8.10"
  }
 },
 "nbformat": 4,
 "nbformat_minor": 5
}
